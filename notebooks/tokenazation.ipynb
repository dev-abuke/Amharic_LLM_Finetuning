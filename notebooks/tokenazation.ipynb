{
 "cells": [
  {
   "cell_type": "code",
   "execution_count": 30,
   "metadata": {},
   "outputs": [],
   "source": [
    "from transformers import AutoTokenizer"
   ]
  },
  {
   "cell_type": "markdown",
   "metadata": {},
   "source": []
  },
  {
   "cell_type": "code",
   "execution_count": 31,
   "metadata": {},
   "outputs": [],
   "source": [
    "import pandas as pd\n",
    "\n",
    "\n",
    "# Load the CSV data\n",
    "data = pd.read_csv('/home/miki/Downloads/amharicdata/Scalable_Datawarehouse_Amharic_Data_Ingestion_For_LLM_RAG/Amharic_corpus_merged_2023-04-16.csv')\n",
    "\n",
    "# Separate articles and categories\n",
    "articles = data['article'].tolist()  # Renamed from 'texts' to 'articles'\n",
    "categories = data['category'].tolist()  # Renamed from 'labels' to 'categories'"
   ]
  },
  {
   "cell_type": "code",
   "execution_count": 32,
   "metadata": {},
   "outputs": [],
   "source": [
    "import torch\n",
    "# Tokenize the texts into input IDs\n"
   ]
  },
  {
   "cell_type": "code",
   "execution_count": null,
   "metadata": {},
   "outputs": [],
   "source": [
    "input_ids = []\n",
    "attention_masks = []\n",
    "\n",
    "for article in articles:\n",
    "    # Encode_plus will also generate attention masks\n",
    "    encoded_dict = tokenizer.encode_plus(\n",
    "        article,\n",
    "        add_special_tokens=True,  # Add '[CLS]' and '[SEP]'\n",
    "        max_length=128,           # Max length of the tokenized input\n",
    "        padding='max_length',     # Pad to the max length\n",
    "        truncation=True,          # Truncate if exceeds max_length\n",
    "        return_attention_mask=True,   # Return attention mask\n",
    "        return_tensors='pt',       # Return PyTorch tensors\n",
    "    )\n",
    "    \n",
    "    input_ids.append(encoded_dict['input_ids'])\n",
    "    attention_masks.append(encoded_dict['attention_mask'])\n",
    "\n",
    "# Convert lists to tensors\n",
    "input_ids = torch.cat(input_ids, dim=0)\n",
    "attention_masks = torch.cat(attention_masks, dim=0)"
   ]
  },
  {
   "cell_type": "code",
   "execution_count": 7,
   "metadata": {},
   "outputs": [],
   "source": [
    "torch.save(input_ids, 'input_ids.pt')\n",
    "torch.save(attention_masks, 'attention_masks.pt')"
   ]
  }
 ],
 "metadata": {
  "kernelspec": {
   "display_name": "venv",
   "language": "python",
   "name": "python3"
  },
  "language_info": {
   "codemirror_mode": {
    "name": "ipython",
    "version": 3
   },
   "file_extension": ".py",
   "mimetype": "text/x-python",
   "name": "python",
   "nbconvert_exporter": "python",
   "pygments_lexer": "ipython3",
   "version": "3.8.10"
  }
 },
 "nbformat": 4,
 "nbformat_minor": 2
}
