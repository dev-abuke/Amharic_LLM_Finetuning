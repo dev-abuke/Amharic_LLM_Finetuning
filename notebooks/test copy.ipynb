{
 "cells": [
  {
   "cell_type": "code",
   "execution_count": 1,
   "metadata": {},
   "outputs": [],
   "source": [
    "%load_ext autoreload\n",
    "%autoreload 2"
   ]
  },
  {
   "cell_type": "code",
   "execution_count": 2,
   "metadata": {},
   "outputs": [],
   "source": [
    "import pandas as pd\n",
    "import os"
   ]
  },
  {
   "cell_type": "code",
   "execution_count": 3,
   "metadata": {},
   "outputs": [],
   "source": [
    "os.chdir(\"../\")"
   ]
  },
  {
   "cell_type": "code",
   "execution_count": 4,
   "metadata": {},
   "outputs": [
    {
     "data": {
      "text/plain": [
       "'/home/abubeker_shamil/Amharic_LLM_Finetuning'"
      ]
     },
     "execution_count": 4,
     "metadata": {},
     "output_type": "execute_result"
    }
   ],
   "source": [
    "os.getcwd()"
   ]
  },
  {
   "cell_type": "code",
   "execution_count": 5,
   "metadata": {},
   "outputs": [],
   "source": [
    "import numpy as np\n",
    "\n",
    "from datasets import load_dataset, load_metric, Dataset, DatasetDict, concatenate_datasets, load_from_disk\n",
    "from transformers import (\n",
    "    AutoModelForSequenceClassification,\n",
    "    AutoTokenizer,\n",
    "    AutoModelForCausalLM,\n",
    "    DataCollatorWithPadding,\n",
    "    Trainer,\n",
    "    TrainingArguments,\n",
    ")\n",
    "import pandas as pd\n",
    "import torch\n",
    "from sklearn.model_selection import train_test_split"
   ]
  },
  {
   "cell_type": "code",
   "execution_count": null,
   "metadata": {},
   "outputs": [],
   "source": [
    "summary = pd.read_csv(\"data/raw/summary_cleaned.csv\")"
   ]
  },
  {
   "cell_type": "code",
   "execution_count": null,
   "metadata": {},
   "outputs": [],
   "source": [
    "summary.isna().sum()"
   ]
  },
  {
   "cell_type": "code",
   "execution_count": null,
   "metadata": {},
   "outputs": [],
   "source": [
    "summary.dropna(inplace=True)"
   ]
  },
  {
   "cell_type": "code",
   "execution_count": null,
   "metadata": {},
   "outputs": [],
   "source": [
    "summary.isna().sum()"
   ]
  },
  {
   "cell_type": "code",
   "execution_count": null,
   "metadata": {},
   "outputs": [],
   "source": [
    "model_name = \"Samuael/llama-2-7b-tebot-amharic\"  # Replace with your chosen model name\n",
    "# \"rasyosef/bert-amharic-tokenizer\""
   ]
  },
  {
   "cell_type": "code",
   "execution_count": null,
   "metadata": {},
   "outputs": [],
   "source": [
    "tokenizer = AutoTokenizer.from_pretrained(model_name)"
   ]
  },
  {
   "cell_type": "code",
   "execution_count": null,
   "metadata": {},
   "outputs": [],
   "source": [
    "train_texts, val_texts, train_summaries, val_summaries = train_test_split(\n",
    "    summary['clean_text'].tolist(), summary['clean_summary'].tolist(), test_size=0.1, random_state=42\n",
    ")"
   ]
  },
  {
   "cell_type": "code",
   "execution_count": null,
   "metadata": {},
   "outputs": [],
   "source": [
    "# Tokenize the dataset in chunks to manage memory usage\n",
    "chunk_size = 1000  # Reduce chunk size for easier debugging\n",
    "train_chunks = [train_texts[i:i + chunk_size] for i in range(0, len(train_texts), chunk_size)]\n",
    "train_summary_chunks = [train_summaries[i:i + chunk_size] for i in range(0, len(train_summaries), chunk_size)]\n",
    "val_chunks = [val_texts[i:i + chunk_size] for i in range(0, len(val_texts), chunk_size)]\n",
    "val_summary_chunks = [val_summaries[i:i + chunk_size] for i in range(0, len(val_summaries), chunk_size)]\n",
    "\n",
    "# Function to tokenize and convert to Dataset\n",
    "def tokenize_and_create_dataset(texts, summaries):\n",
    "    # Debugging: Print types and samples of the inputs\n",
    "    print(f\"texts type: {type(texts)}, summaries type: {type(summaries)}\")\n",
    "    print(f\"texts sample: {texts[:3]}, summaries sample: {summaries[:3]}\")\n",
    "    \n",
    "    # Ensure the inputs are lists of strings\n",
    "    if not isinstance(texts, list):\n",
    "        raise ValueError(\"texts must be a list of strings\")\n",
    "    if not isinstance(summaries, list):\n",
    "        raise ValueError(\"summaries must be a list of strings\")\n",
    "    if not all(isinstance(text, str) for text in texts):\n",
    "        raise ValueError(\"All elements in texts must be strings\")\n",
    "    if not all(isinstance(summary, str) for summary in summaries):\n",
    "        raise ValueError(\"All elements in summaries must be strings\")\n",
    "\n",
    "    # Tokenize\n",
    "    encodings = tokenizer(texts, padding=True, truncation=True, max_length=512)\n",
    "    labels = tokenizer(summaries, padding=True, truncation=True, max_length=512)\n",
    "    \n",
    "    # Ensure the labels are properly encoded\n",
    "    encodings = {\n",
    "        'input_ids': torch.tensor(encodings['input_ids']),\n",
    "        'attention_mask': torch.tensor(encodings['attention_mask']),\n",
    "        'labels': torch.tensor(labels['input_ids'])\n",
    "    }\n",
    "    \n",
    "    return Dataset.from_dict(encodings)"
   ]
  },
  {
   "cell_type": "code",
   "execution_count": null,
   "metadata": {},
   "outputs": [],
   "source": [
    "# Tokenize and save train and validation datasets incrementally\n",
    "train_datasets = []\n",
    "val_datasets = []\n",
    "\n",
    "for i in range(len(train_chunks)):\n",
    "    print(f\"Processing train chunk {i}\")\n",
    "    print(f\"Type of train_summary_chunks[{i}]: {type(train_summary_chunks[i])}\")\n",
    "    print(f\"Content of train_summary_chunks[{i}]: {train_summary_chunks[i][:5]}\")\n",
    "    print(f\"Type of train_chunks[{i}]: {type(train_chunks[i])}\")\n",
    "    print(f\"Content of train_chunks[{i}]: {train_chunks[i][:5]}\")\n",
    "    \n",
    "    # Check the content before tokenizing\n",
    "    if not all(isinstance(summary, str) for summary in train_summary_chunks[i]):\n",
    "        raise ValueError(f\"Chunk {i} in train_summary_chunks contains non-string elements.\")\n",
    "    if not all(isinstance(text, str) for text in train_chunks[i]):\n",
    "        raise ValueError(f\"Chunk {i} in train_chunks contains non-string elements.\")\n",
    "    \n",
    "    train_dataset_chunk = tokenize_and_create_dataset(train_chunks[i], train_summary_chunks[i])\n",
    "    train_datasets.append(train_dataset_chunk)\n",
    "\n",
    "for i in range(len(val_chunks)):\n",
    "    print(f\"Processing val chunk {i}\")\n",
    "    print(f\"Type of val_summary_chunks[{i}]: {type(val_summary_chunks[i])}\")\n",
    "    print(f\"Content of val_summary_chunks[{i}]: {val_summary_chunks[i][:5]}\")\n",
    "    print(f\"Type of val_chunks[{i}]: {type(val_chunks[i])}\")\n",
    "    print(f\"Content of val_chunks[{i}]: {val_chunks[i][:5]}\")\n",
    "    \n",
    "    # Check the content before tokenizing\n",
    "    if not all(isinstance(summary, str) for summary in val_summary_chunks[i]):\n",
    "        raise ValueError(f\"Chunk {i} in val_summary_chunks contains non-string elements.\")\n",
    "    if not all(isinstance(text, str) for text in val_chunks[i]):\n",
    "        raise ValueError(f\"Chunk {i} in val_chunks contains non-string elements.\")\n",
    "    \n",
    "    val_dataset_chunk = tokenize_and_create_dataset(val_chunks[i], val_summary_chunks[i])\n",
    "    val_datasets.append(val_dataset_chunk)\n"
   ]
  },
  {
   "cell_type": "code",
   "execution_count": null,
   "metadata": {},
   "outputs": [],
   "source": [
    "# Concatenate the datasets\n",
    "train_dataset = concatenate_datasets(train_datasets)\n",
    "val_dataset = concatenate_datasets(val_datasets)\n",
    "\n",
    "# Combine into a DatasetDict\n",
    "dataset = DatasetDict({\n",
    "    'train': train_dataset,\n",
    "    'validation': val_dataset\n",
    "})\n",
    "\n",
    "# Save the dataset to disk\n",
    "dataset.save_to_disk('tokenized_dataset')"
   ]
  },
  {
   "cell_type": "code",
   "execution_count": 6,
   "metadata": {},
   "outputs": [],
   "source": [
    "dataset = load_from_disk('tokenized_dataset')"
   ]
  },
  {
   "cell_type": "code",
   "execution_count": 7,
   "metadata": {},
   "outputs": [
    {
     "name": "stdout",
     "output_type": "stream",
     "text": [
      "{'input_ids': [1, 29871, 228, 141, 165, 228, 141, 152, 228, 140, 179, 228, 139, 176, 228, 141, 151, 228, 140, 184, 29871, 228, 142, 171, 228, 143, 139, 228, 141, 150, 29871, 228, 139, 160, 228, 141, 161, 228, 140, 180, 228, 141, 152, 29871, 228, 142, 139, 228, 142, 179, 29871, 228, 141, 163, 228, 143, 144, 228, 141, 160, 228, 140, 186, 228, 139, 144, 29871, 228, 140, 167, 228, 139, 142, 29871, 228, 141, 163, 228, 139, 132, 228, 141, 152, 29871, 228, 140, 163, 228, 142, 172, 228, 140, 182, 29871, 228, 142, 171, 228, 141, 168, 228, 141, 152, 228, 139, 184, 228, 139, 182, 228, 140, 184, 29871, 228, 139, 158, 228, 140, 137, 228, 142, 174, 29871, 228, 142, 144, 228, 139, 184, 228, 143, 168, 29871, 228, 139, 139, 228, 139, 155, 228, 141, 153, 228, 139, 176, 29871, 228, 141, 168, 228, 142, 171, 228, 140, 179, 228, 139, 142, 228, 141, 171, 29871, 228, 141, 147, 228, 142, 144, 29871, 228, 142, 171, 228, 141, 165, 228, 141, 152, 228, 142, 181, 228, 142, 174, 228, 141, 150, 29871, 228, 143, 131, 228, 139, 176, 228, 139, 155, 228, 141, 150, 228, 142, 141, 228, 142, 144, 29871, 228, 141, 168, 228, 139, 171, 228, 141, 158, 29871, 228, 140, 166, 228, 139, 139, 228, 144, 139, 228, 142, 144, 29871, 228, 139, 182, 228, 139, 160, 228, 141, 152, 228, 140, 184, 29871, 228, 140, 163, 228, 140, 166, 228, 139, 139, 228, 140, 167, 228, 140, 180, 29871, 228, 141, 148, 228, 142, 158, 228, 142, 159, 29871, 228, 139, 142, 228, 142, 176, 29871, 228, 140, 163, 228, 140, 179, 228, 140, 131, 228, 139, 155, 228, 143, 163, 228, 142, 144, 29871, 228, 142, 184, 228, 141, 152, 228, 143, 142, 228, 143, 143, 29871, 228, 139, 160, 228, 141, 176, 228, 141, 152, 228, 142, 174, 228, 140, 184, 29871, 228, 139, 141, 228, 142, 139, 228, 143, 139, 228, 142, 184, 29871, 228, 141, 168, 228, 141, 152, 228, 142, 179, 228, 139, 157, 228, 140, 192, 228, 139, 144, 29871, 228, 139, 181, 228, 143, 139, 228, 139, 139, 228, 144, 136, 29871, 228, 142, 171, 228, 143, 142, 228, 139, 174, 29871, 228, 139, 144, 228, 140, 168, 228, 141, 152, 29871, 228, 143, 145, 228, 140, 184, 228, 140, 186, 228, 139, 144, 29871, 228, 141, 147, 228, 143, 139, 228, 139, 176, 29871, 228, 143, 144, 228, 141, 152, 29871, 228, 140, 167, 228, 139, 142, 29871, 228, 142, 139, 228, 142, 179, 29871, 228, 139, 160, 228, 139, 176, 228, 143, 168, 29871, 228, 143, 150, 228, 142, 179, 228, 141, 161, 228, 140, 192, 29871, 228, 142, 171, 228, 141, 168, 228, 141, 152, 228, 139, 184, 228, 139, 182, 228, 140, 184, 29871, 228, 139, 158, 228, 139, 136, 228, 140, 163, 228, 139, 176, 29871, 228, 142, 176, 228, 139, 135, 228, 142, 182, 228, 139, 144, 29871, 228, 140, 164, 228, 142, 184, 228, 141, 148, 29871, 228], 'attention_mask': [1, 1, 1, 1, 1, 1, 1, 1, 1, 1, 1, 1, 1, 1, 1, 1, 1, 1, 1, 1, 1, 1, 1, 1, 1, 1, 1, 1, 1, 1, 1, 1, 1, 1, 1, 1, 1, 1, 1, 1, 1, 1, 1, 1, 1, 1, 1, 1, 1, 1, 1, 1, 1, 1, 1, 1, 1, 1, 1, 1, 1, 1, 1, 1, 1, 1, 1, 1, 1, 1, 1, 1, 1, 1, 1, 1, 1, 1, 1, 1, 1, 1, 1, 1, 1, 1, 1, 1, 1, 1, 1, 1, 1, 1, 1, 1, 1, 1, 1, 1, 1, 1, 1, 1, 1, 1, 1, 1, 1, 1, 1, 1, 1, 1, 1, 1, 1, 1, 1, 1, 1, 1, 1, 1, 1, 1, 1, 1, 1, 1, 1, 1, 1, 1, 1, 1, 1, 1, 1, 1, 1, 1, 1, 1, 1, 1, 1, 1, 1, 1, 1, 1, 1, 1, 1, 1, 1, 1, 1, 1, 1, 1, 1, 1, 1, 1, 1, 1, 1, 1, 1, 1, 1, 1, 1, 1, 1, 1, 1, 1, 1, 1, 1, 1, 1, 1, 1, 1, 1, 1, 1, 1, 1, 1, 1, 1, 1, 1, 1, 1, 1, 1, 1, 1, 1, 1, 1, 1, 1, 1, 1, 1, 1, 1, 1, 1, 1, 1, 1, 1, 1, 1, 1, 1, 1, 1, 1, 1, 1, 1, 1, 1, 1, 1, 1, 1, 1, 1, 1, 1, 1, 1, 1, 1, 1, 1, 1, 1, 1, 1, 1, 1, 1, 1, 1, 1, 1, 1, 1, 1, 1, 1, 1, 1, 1, 1, 1, 1, 1, 1, 1, 1, 1, 1, 1, 1, 1, 1, 1, 1, 1, 1, 1, 1, 1, 1, 1, 1, 1, 1, 1, 1, 1, 1, 1, 1, 1, 1, 1, 1, 1, 1, 1, 1, 1, 1, 1, 1, 1, 1, 1, 1, 1, 1, 1, 1, 1, 1, 1, 1, 1, 1, 1, 1, 1, 1, 1, 1, 1, 1, 1, 1, 1, 1, 1, 1, 1, 1, 1, 1, 1, 1, 1, 1, 1, 1, 1, 1, 1, 1, 1, 1, 1, 1, 1, 1, 1, 1, 1, 1, 1, 1, 1, 1, 1, 1, 1, 1, 1, 1, 1, 1, 1, 1, 1, 1, 1, 1, 1, 1, 1, 1, 1, 1, 1, 1, 1, 1, 1, 1, 1, 1, 1, 1, 1, 1, 1, 1, 1, 1, 1, 1, 1, 1, 1, 1, 1, 1, 1, 1, 1, 1, 1, 1, 1, 1, 1, 1, 1, 1, 1, 1, 1, 1, 1, 1, 1, 1, 1, 1, 1, 1, 1, 1, 1, 1, 1, 1, 1, 1, 1, 1, 1, 1, 1, 1, 1, 1, 1, 1, 1, 1, 1, 1, 1, 1, 1, 1, 1, 1, 1, 1, 1, 1, 1, 1, 1, 1, 1, 1, 1, 1, 1, 1, 1, 1, 1, 1, 1, 1, 1, 1, 1, 1, 1, 1, 1, 1, 1, 1, 1, 1, 1, 1, 1, 1, 1, 1, 1, 1, 1, 1, 1, 1, 1, 1, 1, 1, 1, 1, 1, 1], 'labels': [2, 2, 2, 2, 2, 2, 2, 2, 2, 2, 2, 2, 2, 2, 2, 2, 2, 2, 2, 2, 2, 2, 2, 2, 2, 2, 2, 2, 2, 2, 2, 2, 2, 2, 2, 2, 2, 2, 2, 2, 2, 2, 2, 2, 2, 2, 2, 2, 2, 2, 2, 2, 2, 2, 2, 2, 2, 2, 2, 2, 2, 2, 2, 2, 2, 2, 2, 2, 2, 2, 2, 2, 2, 2, 2, 2, 2, 2, 2, 2, 2, 2, 2, 2, 2, 2, 2, 2, 2, 2, 2, 2, 2, 2, 2, 2, 2, 2, 2, 2, 2, 2, 2, 2, 2, 2, 2, 2, 2, 2, 2, 2, 2, 2, 2, 2, 2, 2, 2, 2, 2, 2, 2, 2, 2, 2, 2, 2, 2, 2, 2, 2, 2, 2, 2, 2, 2, 2, 2, 2, 2, 2, 2, 2, 2, 2, 1, 29871, 228, 142, 171, 228, 143, 131, 228, 139, 155, 228, 139, 171, 228, 142, 144, 29871, 228, 139, 136, 228, 140, 168, 228, 139, 171, 228, 140, 179, 228, 139, 179, 228, 140, 164, 29871, 228, 143, 167, 228, 141, 150, 228, 139, 158, 29871, 228, 142, 171, 228, 139, 137, 228, 141, 147, 29871, 228, 142, 171, 228, 141, 165, 228, 141, 152, 228, 142, 181, 228, 142, 174, 228, 141, 150, 29871, 228, 142, 144, 228, 139, 190, 29871, 228, 139, 141, 228, 143, 139, 228, 139, 139, 228, 139, 144, 29871, 228, 141, 168, 228, 141, 152, 228, 142, 179, 228, 139, 157, 228, 140, 192, 228, 139, 144, 29871, 228, 141, 174, 228, 142, 139, 228, 140, 131, 29871, 228, 140, 163, 228, 141, 142, 228, 139, 142, 29871, 228, 141, 147, 228, 142, 144, 29871, 228, 140, 163, 228, 141, 148, 228, 142, 158, 228, 142, 159, 228, 142, 142, 29871, 228, 142, 144, 228, 139, 184, 228, 143, 168, 29871, 228, 142, 171, 228, 140, 167, 228, 139, 142, 29871, 228, 139, 162, 228, 140, 192, 29871, 228, 140, 166, 228, 139, 139, 228, 140, 167, 228, 140, 184, 29871, 228, 142, 144, 228, 139, 190, 228, 142, 144, 29871, 228, 141, 168, 228, 141, 152, 228, 142, 181, 228, 140, 179, 228, 141, 158, 29871, 228, 141, 168, 228, 141, 150, 29871, 228, 141, 171, 228, 141, 168, 228, 139, 176, 228, 139, 186, 29871, 228, 143, 142, 228, 139, 176, 29871, 228, 141, 168, 228, 141, 152, 228, 142, 181, 228, 142, 174, 228, 139, 176, 228, 144, 144, 29871, 228, 143, 163, 228, 142, 171, 228, 140, 131, 29871, 228, 142, 171, 228, 142, 172, 228, 140, 182, 29871, 228, 142, 171, 228, 141, 168, 228, 141, 152, 228, 139, 184, 228, 139, 182, 228, 140, 184, 29871, 228, 139, 158, 228, 140, 137, 228, 142, 174, 29871, 228, 142, 144, 228, 139, 190, 228, 142, 144, 228, 141, 152, 29871, 228, 139, 139, 228, 139, 155, 228, 142, 144, 228, 139, 179, 228, 142, 184, 29871, 228, 140, 179, 228, 139, 184, 228, 139, 158, 228, 139, 160, 228, 140, 186, 228, 139, 144]}\n",
      "{'input_ids': [1, 29871, 228, 140, 166, 228, 143, 144, 228, 142, 182, 228, 142, 184, 29871, 228, 141, 165, 228, 139, 174, 228, 140, 136, 29871, 228, 139, 181, 228, 141, 167, 228, 141, 152, 228, 141, 167, 228, 141, 152, 29871, 228, 142, 171, 228, 141, 165, 228, 139, 174, 228, 140, 136, 29871, 228, 139, 155, 228, 139, 173, 228, 142, 145, 228, 140, 192, 29871, 228, 141, 171, 228, 139, 184, 228, 139, 160, 228, 141, 152, 228, 140, 184, 29871, 228, 142, 139, 228, 139, 174, 228, 140, 184, 29871, 228, 141, 152, 228, 140, 184, 228, 139, 176, 228, 141, 176, 29871, 228, 141, 168, 228, 141, 150, 29871, 228, 142, 171, 228, 144, 153, 228, 139, 139, 228, 140, 181, 228, 141, 174, 29871, 228, 139, 192, 228, 140, 166, 29871, 228, 140, 163, 228, 141, 142, 228, 139, 142, 29871, 228, 140, 163, 228, 139, 155, 228, 143, 171, 228, 139, 171, 228, 139, 190, 29871, 228, 139, 131, 228, 139, 156, 228, 139, 184, 29871, 228, 139, 139, 228, 141, 163, 228, 142, 181, 228, 139, 180, 29871, 228, 139, 155, 228, 141, 152, 228, 143, 144, 228, 139, 184, 228, 140, 184, 29871, 228, 139, 184, 228, 139, 144, 228, 143, 166, 228, 141, 152, 29871, 228, 139, 155, 228, 143, 142, 228, 139, 174, 228, 140, 184, 29871, 228, 139, 184, 228, 139, 160, 228, 139, 160, 228, 141, 147, 228, 140, 184, 29871, 228, 139, 142, 228, 142, 176, 29871, 228, 142, 179, 228, 139, 176, 228, 139, 179, 228, 142, 142, 228, 139, 144, 29871, 228, 140, 179, 228, 140, 168, 228, 139, 145, 29871, 228, 142, 176, 228, 140, 182, 228, 139, 179, 228, 140, 166, 228, 139, 144, 29871, 228, 141, 147, 228, 143, 139, 228, 139, 176, 29871, 228, 143, 144, 228, 141, 152, 29871, 228, 142, 174, 29871, 228, 139, 184, 228, 139, 160, 228, 139, 160, 228, 141, 147, 228, 140, 180, 29871, 228, 140, 163, 228, 140, 131, 228, 141, 148, 29871, 228, 139, 155, 228, 143, 139, 228, 140, 166, 228, 142, 179, 228, 143, 134, 29871, 228, 139, 142, 228, 142, 176, 29871, 228, 141, 168, 228, 141, 152, 228, 142, 179, 29871, 228, 142, 171, 228, 141, 163, 228, 140, 166, 228, 139, 144, 228, 141, 147, 228, 140, 184, 29871, 228, 141, 163, 228, 140, 166, 228, 139, 142, 228, 140, 184, 29871, 228, 142, 171, 228, 144, 139, 228, 139, 174, 228, 139, 171, 228, 139, 179, 29871, 228, 142, 176, 228, 139, 155, 228, 139, 184, 228, 139, 142, 228, 139, 144, 29871, 228, 140, 163, 228, 139, 180, 228, 141, 149, 29871, 228, 142, 171, 228, 139, 157, 228, 142, 179, 228, 143, 139, 228, 144, 139, 228, 142, 144, 29871, 228, 142, 171, 228, 141, 165, 228, 139, 174, 228, 140, 134, 29871, 228, 139, 141, 228, 139, 184, 228, 140, 184, 29871, 228, 141, 171, 228, 144, 150, 228, 139, 176, 228, 139, 142, 228, 139, 158, 228, 142, 144, 29871, 228, 139, 184, 228, 140], 'attention_mask': [1, 1, 1, 1, 1, 1, 1, 1, 1, 1, 1, 1, 1, 1, 1, 1, 1, 1, 1, 1, 1, 1, 1, 1, 1, 1, 1, 1, 1, 1, 1, 1, 1, 1, 1, 1, 1, 1, 1, 1, 1, 1, 1, 1, 1, 1, 1, 1, 1, 1, 1, 1, 1, 1, 1, 1, 1, 1, 1, 1, 1, 1, 1, 1, 1, 1, 1, 1, 1, 1, 1, 1, 1, 1, 1, 1, 1, 1, 1, 1, 1, 1, 1, 1, 1, 1, 1, 1, 1, 1, 1, 1, 1, 1, 1, 1, 1, 1, 1, 1, 1, 1, 1, 1, 1, 1, 1, 1, 1, 1, 1, 1, 1, 1, 1, 1, 1, 1, 1, 1, 1, 1, 1, 1, 1, 1, 1, 1, 1, 1, 1, 1, 1, 1, 1, 1, 1, 1, 1, 1, 1, 1, 1, 1, 1, 1, 1, 1, 1, 1, 1, 1, 1, 1, 1, 1, 1, 1, 1, 1, 1, 1, 1, 1, 1, 1, 1, 1, 1, 1, 1, 1, 1, 1, 1, 1, 1, 1, 1, 1, 1, 1, 1, 1, 1, 1, 1, 1, 1, 1, 1, 1, 1, 1, 1, 1, 1, 1, 1, 1, 1, 1, 1, 1, 1, 1, 1, 1, 1, 1, 1, 1, 1, 1, 1, 1, 1, 1, 1, 1, 1, 1, 1, 1, 1, 1, 1, 1, 1, 1, 1, 1, 1, 1, 1, 1, 1, 1, 1, 1, 1, 1, 1, 1, 1, 1, 1, 1, 1, 1, 1, 1, 1, 1, 1, 1, 1, 1, 1, 1, 1, 1, 1, 1, 1, 1, 1, 1, 1, 1, 1, 1, 1, 1, 1, 1, 1, 1, 1, 1, 1, 1, 1, 1, 1, 1, 1, 1, 1, 1, 1, 1, 1, 1, 1, 1, 1, 1, 1, 1, 1, 1, 1, 1, 1, 1, 1, 1, 1, 1, 1, 1, 1, 1, 1, 1, 1, 1, 1, 1, 1, 1, 1, 1, 1, 1, 1, 1, 1, 1, 1, 1, 1, 1, 1, 1, 1, 1, 1, 1, 1, 1, 1, 1, 1, 1, 1, 1, 1, 1, 1, 1, 1, 1, 1, 1, 1, 1, 1, 1, 1, 1, 1, 1, 1, 1, 1, 1, 1, 1, 1, 1, 1, 1, 1, 1, 1, 1, 1, 1, 1, 1, 1, 1, 1, 1, 1, 1, 1, 1, 1, 1, 1, 1, 1, 1, 1, 1, 1, 1, 1, 1, 1, 1, 1, 1, 1, 1, 1, 1, 1, 1, 1, 1, 1, 1, 1, 1, 1, 1, 1, 1, 1, 1, 1, 1, 1, 1, 1, 1, 1, 1, 1, 1, 1, 1, 1, 1, 1, 1, 1, 1, 1, 1, 1, 1, 1, 1, 1, 1, 1, 1, 1, 1, 1, 1, 1, 1, 1, 1, 1, 1, 1, 1, 1, 1, 1, 1, 1, 1, 1, 1, 1, 1, 1, 1, 1, 1, 1, 1, 1, 1, 1, 1, 1, 1, 1, 1, 1, 1, 1, 1, 1, 1, 1, 1, 1, 1, 1, 1, 1, 1, 1, 1, 1, 1, 1, 1, 1, 1, 1, 1], 'labels': [2, 2, 2, 2, 2, 2, 2, 2, 2, 2, 2, 2, 2, 2, 2, 2, 2, 2, 2, 2, 2, 2, 2, 2, 2, 2, 2, 2, 2, 2, 2, 2, 2, 2, 2, 2, 2, 2, 2, 2, 2, 2, 2, 2, 2, 2, 1, 29871, 228, 142, 171, 228, 139, 184, 228, 139, 160, 228, 141, 152, 228, 140, 184, 29871, 228, 142, 139, 228, 139, 174, 228, 140, 184, 29871, 228, 141, 152, 228, 140, 184, 228, 139, 176, 228, 141, 176, 29871, 228, 141, 168, 228, 141, 150, 29871, 228, 139, 192, 228, 140, 166, 228, 141, 147, 228, 140, 184, 29871, 228, 140, 163, 228, 139, 184, 228, 139, 144, 228, 143, 166, 228, 141, 152, 29871, 228, 141, 176, 228, 144, 144, 228, 144, 144, 228, 139, 144, 29871, 228, 139, 184, 228, 139, 160, 228, 139, 160, 228, 141, 147, 228, 140, 184, 29871, 228, 139, 142, 228, 142, 176, 29871, 228, 142, 174, 228, 140, 163, 228, 140, 134, 29871, 228, 142, 176, 228, 139, 155, 228, 139, 184, 228, 139, 142, 228, 139, 144, 29871, 228, 141, 147, 228, 143, 139, 228, 139, 176, 29871, 228, 143, 144, 228, 141, 152, 29871, 228, 142, 174, 29871, 228, 139, 184, 228, 139, 160, 228, 139, 160, 228, 141, 147, 228, 140, 184, 29871, 228, 139, 131, 228, 139, 156, 228, 139, 184, 29871, 228, 139, 155, 228, 143, 139, 228, 140, 166, 228, 142, 179, 228, 143, 134, 29871, 228, 139, 142, 228, 142, 176, 29871, 228, 140, 163, 228, 139, 180, 228, 141, 149, 29871, 228, 142, 171, 228, 139, 157, 228, 142, 179, 228, 143, 139, 228, 144, 139, 228, 142, 144, 29871, 228, 140, 164, 228, 142, 184, 228, 141, 152, 29871, 228, 139, 181, 228, 142, 139, 228, 143, 166, 29871, 228, 142, 171, 228, 144, 139, 228, 139, 171, 228, 139, 179, 29871, 228, 142, 176, 228, 139, 155, 228, 139, 184, 228, 139, 142, 228, 139, 144, 29871, 228, 142, 171, 228, 140, 179, 228, 139, 139, 228, 142, 174, 228, 142, 172, 29871, 228, 141, 176, 228, 144, 144, 228, 139, 145, 228, 140, 192, 29871, 228, 142, 174, 228, 139, 140, 228, 140, 184, 29871, 228, 139, 155, 228, 141, 173, 228, 141, 150, 29871, 228, 141, 168, 228, 141, 152, 228, 142, 179, 228, 139, 158, 228, 143, 139, 228, 143, 166, 228, 143, 163, 228, 139, 160, 29871, 228, 141, 168, 228, 141, 150, 29871, 228, 142, 176, 228, 139, 179, 228, 139, 174, 228, 139, 144, 29871, 228, 140, 168, 228, 139, 145, 29871, 228, 140, 179, 228, 139, 184, 228, 144, 142, 29871, 228, 141, 168, 228, 141, 152, 228, 142, 179, 228, 139, 158, 228, 142, 184, 228, 139, 171, 228, 143, 144, 29871, 228, 141, 147, 228, 142, 144, 29871, 228, 142, 176, 228, 139, 142, 228, 139, 144, 29871, 228, 141, 163, 228, 141, 152, 228, 142, 184, 29871, 228, 142, 171, 228, 139, 136, 228, 143, 144, 29871, 228, 141, 163, 228, 142, 144, 228, 143, 176]}\n"
     ]
    }
   ],
   "source": [
    "# Print a sample from the dataset\n",
    "print(dataset['train'][0])\n",
    "print(dataset['validation'][0])"
   ]
  },
  {
   "cell_type": "code",
   "execution_count": 8,
   "metadata": {},
   "outputs": [],
   "source": [
    "cache_dir= './cache'"
   ]
  },
  {
   "cell_type": "code",
   "execution_count": 9,
   "metadata": {},
   "outputs": [],
   "source": [
    "from transformers import LlamaTokenizer\n",
    "\n",
    "checkpoint = \"iocuydi/llama-2-amharic-3784m\"\n",
    "commit_hash = \"04fcac974701f1dab0b8e39af9d3ecfce07b3773\"\n",
    "# The commit hash is needed, because the model repo was rearranged after this commit (files -> finetuned/files),\n",
    "# and I couldn't load the model from the new structure\n",
    "\n",
    "tokenizer = LlamaTokenizer.from_pretrained(checkpoint, revision=commit_hash, cache_dir=cache_dir)"
   ]
  },
  {
   "cell_type": "code",
   "execution_count": null,
   "metadata": {},
   "outputs": [],
   "source": [
    "from huggingface_hub import notebook_login\n",
    "notebook_login()"
   ]
  },
  {
   "cell_type": "code",
   "execution_count": 10,
   "metadata": {},
   "outputs": [
    {
     "name": "stderr",
     "output_type": "stream",
     "text": [
      "The `load_in_4bit` and `load_in_8bit` arguments are deprecated and will be removed in the future versions. Please, pass a `BitsAndBytesConfig` object in `quantization_config` argument instead.\n"
     ]
    },
    {
     "data": {
      "application/vnd.jupyter.widget-view+json": {
       "model_id": "9813472012f640ddb4c5d9e515abe102",
       "version_major": 2,
       "version_minor": 0
      },
      "text/plain": [
       "Loading checkpoint shards:   0%|          | 0/2 [00:00<?, ?it/s]"
      ]
     },
     "metadata": {},
     "output_type": "display_data"
    }
   ],
   "source": [
    "from peft import PeftModel\n",
    "from transformers import LlamaForCausalLM, GenerationConfig\n",
    "\n",
    "llama_model = LlamaForCausalLM.from_pretrained(\n",
    "    \"meta-llama/Llama-2-7b-hf\",\n",
    "    load_in_8bit=True,\n",
    "    device_map=\"auto\",\n",
    "    cache_dir=cache_dir, # optional\n",
    ")"
   ]
  },
  {
   "cell_type": "code",
   "execution_count": 11,
   "metadata": {},
   "outputs": [
    {
     "data": {
      "text/plain": [
       "Embedding(51008, 4096)"
      ]
     },
     "execution_count": 11,
     "metadata": {},
     "output_type": "execute_result"
    }
   ],
   "source": [
    "llama_model.resize_token_embeddings(len(tokenizer)) # needed because the fine-tuned model extended the tokenizer"
   ]
  },
  {
   "cell_type": "code",
   "execution_count": 12,
   "metadata": {},
   "outputs": [],
   "source": [
    "# this is the model we want:\n",
    "garii_model = PeftModel.from_pretrained(llama_model, \"iocuydi/llama-2-amharic-3784m\",revision =commit_hash, cache_dir= cache_dir)"
   ]
  },
  {
   "cell_type": "code",
   "execution_count": 13,
   "metadata": {},
   "outputs": [],
   "source": [
    "from transformers import AutoTokenizer, AutoModelForCausalLM, TrainingArguments, Trainer\n",
    "from peft import LoraConfig, get_peft_model, prepare_model_for_kbit_training\n",
    "# Prepare the model for int8 training (optional, but helps reduce memory usage)\n",
    "model = prepare_model_for_kbit_training(garii_model)\n",
    "\n",
    "# Define LoRA configuration\n",
    "lora_config = LoraConfig(\n",
    "    r=8,\n",
    "    lora_alpha=32,\n",
    "    target_modules=[\"q_proj\", \"v_proj\"],\n",
    "    lora_dropout=0.1,\n",
    "    bias=\"none\"\n",
    ")\n",
    "\n",
    "# Apply LoRA to the model\n",
    "lora_model = get_peft_model(model, lora_config)\n",
    "\n",
    "# Tokenize example input\n",
    "input_text = \"ሰላም እንዴት ነህ?\"\n",
    "inputs = tokenizer(input_text, return_tensors=\"pt\")\n",
    "\n",
    "# Define training arguments\n",
    "training_args = TrainingArguments(\n",
    "    output_dir=\"./results\",\n",
    "    num_train_epochs=3,\n",
    "    per_device_train_batch_size=4,\n",
    "    per_device_eval_batch_size=4,\n",
    "    gradient_accumulation_steps=2, \n",
    "    warmup_steps=500,\n",
    "    weight_decay=0.01,\n",
    "    logging_dir=\"./logs\",\n",
    "    logging_steps=10,\n",
    ")\n",
    "\n",
    "# Define trainer\n",
    "trainer = Trainer(\n",
    "    model=lora_model,\n",
    "    args=training_args,\n",
    "    train_dataset=dataset['train'],  # Assuming `dataset` is your prepared dataset\n",
    "    eval_dataset=dataset['validation']\n",
    ")"
   ]
  },
  {
   "cell_type": "code",
   "execution_count": 14,
   "metadata": {},
   "outputs": [
    {
     "name": "stdout",
     "output_type": "stream",
     "text": [
      "trainable params: 19,988,480 || all params: 7,331,975,168 || trainable%: 0.2726\n"
     ]
    }
   ],
   "source": [
    "trainer.model.print_trainable_parameters()"
   ]
  },
  {
   "cell_type": "code",
   "execution_count": null,
   "metadata": {},
   "outputs": [],
   "source": [
    "# Start training\n",
    "trainer.train()"
   ]
  },
  {
   "cell_type": "code",
   "execution_count": null,
   "metadata": {},
   "outputs": [],
   "source": [
    "# Save the model\n",
    "model.save_pretrained(\"./finetuned_model\")"
   ]
  },
  {
   "cell_type": "code",
   "execution_count": null,
   "metadata": {},
   "outputs": [],
   "source": [
    "# Test the fine-tuned model\n",
    "output = model.generate(**inputs, max_length=50)\n",
    "generated_text = tokenizer.decode(output[0], skip_special_tokens=True)\n",
    "#print the generated text to a file\n",
    "with open('generated_text.txt', 'w') as f:\n",
    "    f.write(generated_text)"
   ]
  }
 ],
 "metadata": {
  "kernelspec": {
   "display_name": "nlp",
   "language": "python",
   "name": "python3"
  },
  "language_info": {
   "codemirror_mode": {
    "name": "ipython",
    "version": 3
   },
   "file_extension": ".py",
   "mimetype": "text/x-python",
   "name": "python",
   "nbconvert_exporter": "python",
   "pygments_lexer": "ipython3",
   "version": "3.8.10"
  }
 },
 "nbformat": 4,
 "nbformat_minor": 2
}
